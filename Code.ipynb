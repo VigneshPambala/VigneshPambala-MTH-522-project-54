{
 "cells": [
  {
   "cell_type": "code",
   "execution_count": 1,
   "id": "9dde9120-1beb-41ee-8fb6-9c9da8b3fde4",
   "metadata": {},
   "outputs": [
    {
     "name": "stdout",
     "output_type": "stream",
     "text": [
      "Accuracy: 0.9545454545454546\n"
     ]
    }
   ],
   "source": [
    "import pandas as pd\n",
    "from sklearn.model_selection import train_test_split, GridSearchCV\n",
    "from sklearn.linear_model import LogisticRegression\n",
    "from sklearn.metrics import accuracy_score\n",
    "from sklearn.preprocessing import StandardScaler\n",
    "from sklearn.impute import SimpleImputer\n",
    "\n",
    "# Load the dataset\n",
    "file_path = \"Preliminary college year.xlsx\"\n",
    "data = pd.read_excel(file_path)\n",
    "\n",
    "# Remove rows with missing target variable\n",
    "data.dropna(subset=['Retained F17-F18? (1=yes, 0=no)'], inplace=True)\n",
    "\n",
    "# Drop unnecessary columns\n",
    "columns_to_drop = ['Federal Ethnic Group', 'Gender', 'Reason for not Completing Connect', 'Reason not Retained']\n",
    "data.drop(columns=columns_to_drop, inplace=True)\n",
    "\n",
    "# Define features (X) and target variable (y)\n",
    "X = data.drop(columns=['Retained F17-F18? (1=yes, 0=no)'])\n",
    "y = data['Retained F17-F18? (1=yes, 0=no)']\n",
    "\n",
    "# Perform one-hot encoding for categorical variables\n",
    "categorical_columns = X.select_dtypes(include=['object']).columns\n",
    "X_encoded = pd.get_dummies(X, columns=categorical_columns, drop_first=True)\n",
    "\n",
    "# Impute missing values\n",
    "imputer = SimpleImputer(strategy='mean')\n",
    "X_imputed = pd.DataFrame(imputer.fit_transform(X_encoded), columns=X_encoded.columns)\n",
    "\n",
    "# Scale the features\n",
    "scaler = StandardScaler()\n",
    "X_scaled = scaler.fit_transform(X_imputed)\n",
    "\n",
    "# Split the data into training and testing sets\n",
    "X_train, X_test, y_train, y_test = train_test_split(X_scaled, y, test_size=0.2, random_state=42)\n",
    "\n",
    "# Define hyperparameters for logistic regression\n",
    "param_grid = {\n",
    "    'C': [0.001, 0.01, 0.1, 1, 10, 100],\n",
    "    'penalty': ['l1', 'l2'],\n",
    "    'solver': ['liblinear']  # Use a solver compatible with 'l1' and 'l2'\n",
    "}\n",
    "\n",
    "# Train logistic regression model with hyperparameter tuning\n",
    "logistic_model = LogisticRegression(max_iter=1000, random_state=42)\n",
    "grid_search = GridSearchCV(logistic_model, param_grid, cv=5, scoring='accuracy', n_jobs=-1)\n",
    "grid_search.fit(X_train, y_train)\n",
    "\n",
    "# Get the best model from the grid search\n",
    "best_logistic_model = grid_search.best_estimator_\n",
    "\n",
    "# Predict target variable for the testing set\n",
    "y_pred = best_logistic_model.predict(X_test)\n",
    "\n",
    "# Calculate accuracy\n",
    "accuracy = accuracy_score(y_test, y_pred)\n",
    "print(\"Accuracy:\", accuracy)\n"
   ]
  },
  {
   "cell_type": "code",
   "execution_count": null,
   "id": "d9752a56-5fc5-432a-a2b8-06cb15174314",
   "metadata": {},
   "outputs": [],
   "source": []
  }
 ],
 "metadata": {
  "kernelspec": {
   "display_name": "Python 3 (ipykernel)",
   "language": "python",
   "name": "python3"
  },
  "language_info": {
   "codemirror_mode": {
    "name": "ipython",
    "version": 3
   },
   "file_extension": ".py",
   "mimetype": "text/x-python",
   "name": "python",
   "nbconvert_exporter": "python",
   "pygments_lexer": "ipython3",
   "version": "3.12.3"
  }
 },
 "nbformat": 4,
 "nbformat_minor": 5
}
